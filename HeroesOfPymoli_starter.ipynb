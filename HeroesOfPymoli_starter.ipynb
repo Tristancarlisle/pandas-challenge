{
 "cells": [
  {
   "cell_type": "markdown",
   "metadata": {},
   "source": [
    "### Note\n",
    "* Instructions have been included for each segment. You do not have to follow them exactly, but they are included to help you think through the steps."
   ]
  },
  {
   "cell_type": "markdown",
   "metadata": {},
   "source": [
    "## Findings:\n",
    "\n",
    "# 1 - Gender specific spending habbits \n",
    "When grouping by gender there is a no stark difference in consumption habitits between Females, Males & Other / Non-Disclosed. Males spent similar amounts on average but accounted for 84% of purchases. This could be enough reason for targeted marketing towards the female and other/non-disclosed audience as it should be considered an untapped market. Since all gender groups spent the approximately the same on average it would seem viable to selectively market. \n",
    "\n",
    "# 2 - Age specific spending habbits \n",
    "20-24 year olds accounted for 44.79% of expandature, once again presenting an untouched opportunity for markteting stratergies. However, this could also be due to a higher income the lesser age groups and a lower attached responsibility within that age bracket. Thus, there are potentially confounding factors that should be further assessed before marketing commences. \n",
    "\n",
    "# 3 - Price is not a factor when assessing the consumption\n",
    "When comparing prices of the items that were bought more frequently and those not. There was no distinct difference. This may lead to the conclusion that price is not a defining factor when addressing consumption. therefore, sales may not be a vaible approach when attempting to scale up profits. \n",
    "\n",
    "\n",
    "\n"
   ]
  },
  {
   "cell_type": "code",
   "execution_count": 1,
   "metadata": {},
   "outputs": [],
   "source": [
    "# Dependencies and Setup\n",
    "import pandas as pd\n",
    "\n",
    "# File to Load (Remember to Change These)\n",
    "file_to_load = \"Resources/purchase_data.csv\"\n",
    "\n",
    "# Read Purchasing File and store into Pandas data frame\n",
    "purchase_data = pd.read_csv(file_to_load)\n"
   ]
  },
  {
   "cell_type": "markdown",
   "metadata": {},
   "source": [
    "## Player Count"
   ]
  },
  {
   "cell_type": "markdown",
   "metadata": {},
   "source": [
    "* Display the total number of players\n"
   ]
  },
  {
   "cell_type": "code",
   "execution_count": 2,
   "metadata": {},
   "outputs": [
    {
     "data": {
      "text/html": [
       "<div>\n",
       "<style scoped>\n",
       "    .dataframe tbody tr th:only-of-type {\n",
       "        vertical-align: middle;\n",
       "    }\n",
       "\n",
       "    .dataframe tbody tr th {\n",
       "        vertical-align: top;\n",
       "    }\n",
       "\n",
       "    .dataframe thead th {\n",
       "        text-align: right;\n",
       "    }\n",
       "</style>\n",
       "<table border=\"1\" class=\"dataframe\">\n",
       "  <thead>\n",
       "    <tr style=\"text-align: right;\">\n",
       "      <th></th>\n",
       "      <th>Total Players</th>\n",
       "    </tr>\n",
       "  </thead>\n",
       "  <tbody>\n",
       "    <tr>\n",
       "      <th>0</th>\n",
       "      <td>576</td>\n",
       "    </tr>\n",
       "  </tbody>\n",
       "</table>\n",
       "</div>"
      ],
      "text/plain": [
       "   Total Players\n",
       "0            576"
      ]
     },
     "execution_count": 2,
     "metadata": {},
     "output_type": "execute_result"
    }
   ],
   "source": [
    "purchase_data.head()\n",
    "TP=len(purchase_data[\"SN\"].unique())\n",
    "data = {'Total Players':  TP}\n",
    "Total_Players= pd.DataFrame(data, index = ['0'])\n",
    "Total_Players"
   ]
  },
  {
   "cell_type": "markdown",
   "metadata": {},
   "source": [
    "## Purchasing Analysis (Total)"
   ]
  },
  {
   "cell_type": "markdown",
   "metadata": {},
   "source": [
    "* Run basic calculations to obtain number of unique items, average price, etc.\n",
    "\n",
    "\n",
    "* Create a summary data frame to hold the results\n",
    "\n",
    "\n",
    "* Optional: give the displayed data cleaner formatting\n",
    "\n",
    "\n",
    "* Display the summary data frame\n"
   ]
  },
  {
   "cell_type": "code",
   "execution_count": 3,
   "metadata": {
    "scrolled": true
   },
   "outputs": [
    {
     "data": {
      "text/html": [
       "<style type=\"text/css\">\n",
       "</style>\n",
       "<table id=\"T_c8384_\">\n",
       "  <thead>\n",
       "    <tr>\n",
       "      <th class=\"blank level0\" >&nbsp;</th>\n",
       "      <th class=\"col_heading level0 col0\" >Number of Unique items</th>\n",
       "      <th class=\"col_heading level0 col1\" >Average Price</th>\n",
       "      <th class=\"col_heading level0 col2\" >Number of Purchases</th>\n",
       "      <th class=\"col_heading level0 col3\" >Total Revenue</th>\n",
       "    </tr>\n",
       "  </thead>\n",
       "  <tbody>\n",
       "    <tr>\n",
       "      <th id=\"T_c8384_level0_row0\" class=\"row_heading level0 row0\" >0</th>\n",
       "      <td id=\"T_c8384_row0_col0\" class=\"data row0 col0\" >179</td>\n",
       "      <td id=\"T_c8384_row0_col1\" class=\"data row0 col1\" >$3.05</td>\n",
       "      <td id=\"T_c8384_row0_col2\" class=\"data row0 col2\" >780</td>\n",
       "      <td id=\"T_c8384_row0_col3\" class=\"data row0 col3\" >$2,379.77</td>\n",
       "    </tr>\n",
       "  </tbody>\n",
       "</table>\n"
      ],
      "text/plain": [
       "<pandas.io.formats.style.Styler at 0x1c7a64006d0>"
      ]
     },
     "execution_count": 3,
     "metadata": {},
     "output_type": "execute_result"
    }
   ],
   "source": [
    "Unique_items=len(purchase_data[\"Item ID\"].unique())\n",
    "\n",
    "Average_price= round(purchase_data[\"Price\"].mean(),2)\n",
    "\n",
    "number_of_purchases=len(purchase_data[\"Purchase ID\"])\n",
    "\n",
    "Total_revenue =round(purchase_data[\"Price\"].sum(),2)\n",
    "\n",
    "Purchasing_Analysis  = {'Number of Unique items':  Unique_items,\n",
    "        'Average Price': Average_price,\n",
    "        'Number of Purchases': number_of_purchases,\n",
    "        'Total Revenue': Total_revenue\n",
    "       }\n",
    "\n",
    "Purchasing_Analysis= pd.DataFrame(Purchasing_Analysis, index = ['0'])\n",
    "Purchasing_Analysis_formatted = Purchasing_Analysis.style.format({'Total Revenue': \"${:,}\",'Average Price': \"${:}\"})\n",
    "Purchasing_Analysis_formatted"
   ]
  },
  {
   "cell_type": "markdown",
   "metadata": {},
   "source": [
    "## Gender Demographics"
   ]
  },
  {
   "cell_type": "markdown",
   "metadata": {},
   "source": [
    "* Percentage and Count of Male Players\n",
    "\n",
    "\n",
    "* Percentage and Count of Female Players\n",
    "\n",
    "\n",
    "* Percentage and Count of Other / Non-Disclosed\n",
    "\n",
    "\n"
   ]
  },
  {
   "cell_type": "code",
   "execution_count": 4,
   "metadata": {},
   "outputs": [
    {
     "data": {
      "text/html": [
       "<style type=\"text/css\">\n",
       "</style>\n",
       "<table id=\"T_c54f2_\">\n",
       "  <thead>\n",
       "    <tr>\n",
       "      <th class=\"blank level0\" >&nbsp;</th>\n",
       "      <th class=\"col_heading level0 col0\" >Total Count</th>\n",
       "      <th class=\"col_heading level0 col1\" >Percentage of Players</th>\n",
       "    </tr>\n",
       "  </thead>\n",
       "  <tbody>\n",
       "    <tr>\n",
       "      <th id=\"T_c54f2_level0_row0\" class=\"row_heading level0 row0\" >Male</th>\n",
       "      <td id=\"T_c54f2_row0_col0\" class=\"data row0 col0\" >484</td>\n",
       "      <td id=\"T_c54f2_row0_col1\" class=\"data row0 col1\" >84.03%</td>\n",
       "    </tr>\n",
       "    <tr>\n",
       "      <th id=\"T_c54f2_level0_row1\" class=\"row_heading level0 row1\" >Female</th>\n",
       "      <td id=\"T_c54f2_row1_col0\" class=\"data row1 col0\" >81</td>\n",
       "      <td id=\"T_c54f2_row1_col1\" class=\"data row1 col1\" >14.06%</td>\n",
       "    </tr>\n",
       "    <tr>\n",
       "      <th id=\"T_c54f2_level0_row2\" class=\"row_heading level0 row2\" >Other / Non-Disclosed</th>\n",
       "      <td id=\"T_c54f2_row2_col0\" class=\"data row2 col0\" >11</td>\n",
       "      <td id=\"T_c54f2_row2_col1\" class=\"data row2 col1\" >1.91%</td>\n",
       "    </tr>\n",
       "  </tbody>\n",
       "</table>\n"
      ],
      "text/plain": [
       "<pandas.io.formats.style.Styler at 0x1c7a723bf40>"
      ]
     },
     "execution_count": 4,
     "metadata": {},
     "output_type": "execute_result"
    }
   ],
   "source": [
    "duplicateless = purchase_data.drop_duplicates(subset=['SN'])\n",
    "gender_count=duplicateless[\"Gender\"].value_counts().to_frame()\n",
    "gender_count[\"Percentage of Players\"]= round((gender_count[\"Gender\"]/gender_count[\"Gender\"].sum())*100,2)\n",
    "gender_count.columns = ['Total Count', 'Percentage of Players']\n",
    "gender_count = gender_count.style.format({'Percentage of Players': \"{:}%\"})\n",
    "gender_count\n"
   ]
  },
  {
   "cell_type": "markdown",
   "metadata": {},
   "source": [
    "\n",
    "## Purchasing Analysis (Gender)"
   ]
  },
  {
   "cell_type": "markdown",
   "metadata": {},
   "source": [
    "* Run basic calculations to obtain purchase count, avg. purchase price, avg. purchase total per person etc. by gender\n",
    "\n",
    "\n",
    "\n",
    "\n",
    "* Create a summary data frame to hold the results\n",
    "\n",
    "\n",
    "* Optional: give the displayed data cleaner formatting\n",
    "\n",
    "\n",
    "* Display the summary data frame"
   ]
  },
  {
   "cell_type": "code",
   "execution_count": 5,
   "metadata": {},
   "outputs": [
    {
     "data": {
      "text/html": [
       "<style type=\"text/css\">\n",
       "</style>\n",
       "<table id=\"T_4942f_\">\n",
       "  <thead>\n",
       "    <tr>\n",
       "      <th class=\"blank level0\" >&nbsp;</th>\n",
       "      <th class=\"col_heading level0 col0\" >Gender</th>\n",
       "      <th class=\"col_heading level0 col1\" >Average Purchase Price</th>\n",
       "      <th class=\"col_heading level0 col2\" >Total Purchase Value</th>\n",
       "      <th class=\"col_heading level0 col3\" >Avg Total Purchase per Person</th>\n",
       "    </tr>\n",
       "  </thead>\n",
       "  <tbody>\n",
       "    <tr>\n",
       "      <th id=\"T_4942f_level0_row0\" class=\"row_heading level0 row0\" >Male</th>\n",
       "      <td id=\"T_4942f_row0_col0\" class=\"data row0 col0\" >652</td>\n",
       "      <td id=\"T_4942f_row0_col1\" class=\"data row0 col1\" >$3.02</td>\n",
       "      <td id=\"T_4942f_row0_col2\" class=\"data row0 col2\" >$1,967.64</td>\n",
       "      <td id=\"T_4942f_row0_col3\" class=\"data row0 col3\" >$4.07</td>\n",
       "    </tr>\n",
       "    <tr>\n",
       "      <th id=\"T_4942f_level0_row1\" class=\"row_heading level0 row1\" >Female</th>\n",
       "      <td id=\"T_4942f_row1_col0\" class=\"data row1 col0\" >113</td>\n",
       "      <td id=\"T_4942f_row1_col1\" class=\"data row1 col1\" >$3.20</td>\n",
       "      <td id=\"T_4942f_row1_col2\" class=\"data row1 col2\" >$361.94</td>\n",
       "      <td id=\"T_4942f_row1_col3\" class=\"data row1 col3\" >$4.47</td>\n",
       "    </tr>\n",
       "    <tr>\n",
       "      <th id=\"T_4942f_level0_row2\" class=\"row_heading level0 row2\" >Other / Non-Disclosed</th>\n",
       "      <td id=\"T_4942f_row2_col0\" class=\"data row2 col0\" >15</td>\n",
       "      <td id=\"T_4942f_row2_col1\" class=\"data row2 col1\" >$3.35</td>\n",
       "      <td id=\"T_4942f_row2_col2\" class=\"data row2 col2\" >$50.19</td>\n",
       "      <td id=\"T_4942f_row2_col3\" class=\"data row2 col3\" >$4.56</td>\n",
       "    </tr>\n",
       "  </tbody>\n",
       "</table>\n"
      ],
      "text/plain": [
       "<pandas.io.formats.style.Styler at 0x1c7a723ba60>"
      ]
     },
     "execution_count": 5,
     "metadata": {},
     "output_type": "execute_result"
    }
   ],
   "source": [
    "count=purchase_data[\"Gender\"].value_counts().to_frame()\n",
    "grouped = purchase_data.groupby(\"Gender\")\n",
    "count[\"Average Purchase Price\"]=grouped[\"Price\"].mean()\n",
    "count[\"Total Purchase Value\"]=grouped[\"Price\"].sum()\n",
    "\n",
    "g_count=duplicateless[\"Gender\"].value_counts().to_frame()\n",
    "\n",
    "count[\"Avg Total Purchase per Person\"]=count[\"Total Purchase Value\"]/g_count[\"Gender\"]\n",
    "Purchasing_Analysis_Gender= count.style.format({'Average Purchase Price': \"${:.2f}\",\n",
    "                                                            'Total Purchase Value': \"${:,.2f}\",\n",
    "                                                           'Avg Total Purchase per Person': \"${:.2f}\"})\n",
    "\n",
    "Purchasing_Analysis_Gender"
   ]
  },
  {
   "cell_type": "markdown",
   "metadata": {},
   "source": [
    "## Age Demographics"
   ]
  },
  {
   "cell_type": "markdown",
   "metadata": {},
   "source": [
    "* Establish bins for ages\n",
    "\n",
    "\n",
    "* Categorize the existing players using the age bins. Hint: use pd.cut()\n",
    "\n",
    "\n",
    "* Calculate the numbers and percentages by age group\n",
    "\n",
    "\n",
    "* Create a summary data frame to hold the results\n",
    "\n",
    "\n",
    "* Optional: round the percentage column to two decimal points\n",
    "\n",
    "\n",
    "* Display Age Demographics Table\n"
   ]
  },
  {
   "cell_type": "code",
   "execution_count": 6,
   "metadata": {},
   "outputs": [
    {
     "data": {
      "text/html": [
       "<style type=\"text/css\">\n",
       "</style>\n",
       "<table id=\"T_31dee_\">\n",
       "  <thead>\n",
       "    <tr>\n",
       "      <th class=\"blank level0\" >&nbsp;</th>\n",
       "      <th class=\"col_heading level0 col0\" >Total Count</th>\n",
       "      <th class=\"col_heading level0 col1\" >Percentage of Players</th>\n",
       "    </tr>\n",
       "  </thead>\n",
       "  <tbody>\n",
       "    <tr>\n",
       "      <th id=\"T_31dee_level0_row0\" class=\"row_heading level0 row0\" ><10</th>\n",
       "      <td id=\"T_31dee_row0_col0\" class=\"data row0 col0\" >17</td>\n",
       "      <td id=\"T_31dee_row0_col1\" class=\"data row0 col1\" >2.95%</td>\n",
       "    </tr>\n",
       "    <tr>\n",
       "      <th id=\"T_31dee_level0_row1\" class=\"row_heading level0 row1\" >10-14</th>\n",
       "      <td id=\"T_31dee_row1_col0\" class=\"data row1 col0\" >22</td>\n",
       "      <td id=\"T_31dee_row1_col1\" class=\"data row1 col1\" >3.82%</td>\n",
       "    </tr>\n",
       "    <tr>\n",
       "      <th id=\"T_31dee_level0_row2\" class=\"row_heading level0 row2\" >15-19</th>\n",
       "      <td id=\"T_31dee_row2_col0\" class=\"data row2 col0\" >107</td>\n",
       "      <td id=\"T_31dee_row2_col1\" class=\"data row2 col1\" >18.58%</td>\n",
       "    </tr>\n",
       "    <tr>\n",
       "      <th id=\"T_31dee_level0_row3\" class=\"row_heading level0 row3\" >20-24</th>\n",
       "      <td id=\"T_31dee_row3_col0\" class=\"data row3 col0\" >258</td>\n",
       "      <td id=\"T_31dee_row3_col1\" class=\"data row3 col1\" >44.79%</td>\n",
       "    </tr>\n",
       "    <tr>\n",
       "      <th id=\"T_31dee_level0_row4\" class=\"row_heading level0 row4\" >25-29</th>\n",
       "      <td id=\"T_31dee_row4_col0\" class=\"data row4 col0\" >77</td>\n",
       "      <td id=\"T_31dee_row4_col1\" class=\"data row4 col1\" >13.37%</td>\n",
       "    </tr>\n",
       "    <tr>\n",
       "      <th id=\"T_31dee_level0_row5\" class=\"row_heading level0 row5\" >30-34</th>\n",
       "      <td id=\"T_31dee_row5_col0\" class=\"data row5 col0\" >52</td>\n",
       "      <td id=\"T_31dee_row5_col1\" class=\"data row5 col1\" >9.03%</td>\n",
       "    </tr>\n",
       "    <tr>\n",
       "      <th id=\"T_31dee_level0_row6\" class=\"row_heading level0 row6\" >35-39</th>\n",
       "      <td id=\"T_31dee_row6_col0\" class=\"data row6 col0\" >31</td>\n",
       "      <td id=\"T_31dee_row6_col1\" class=\"data row6 col1\" >5.38%</td>\n",
       "    </tr>\n",
       "    <tr>\n",
       "      <th id=\"T_31dee_level0_row7\" class=\"row_heading level0 row7\" >40+</th>\n",
       "      <td id=\"T_31dee_row7_col0\" class=\"data row7 col0\" >12</td>\n",
       "      <td id=\"T_31dee_row7_col1\" class=\"data row7 col1\" >2.08%</td>\n",
       "    </tr>\n",
       "  </tbody>\n",
       "</table>\n"
      ],
      "text/plain": [
       "<pandas.io.formats.style.Styler at 0x1c7a723bb20>"
      ]
     },
     "execution_count": 6,
     "metadata": {},
     "output_type": "execute_result"
    }
   ],
   "source": [
    "Binned = pd.cut(duplicateless[\"Age\"], \n",
    "                bins=[0,9,14,19,24,29,34,39,100], \n",
    "                labels = [\"<10\",\"10-14\",\"15-19\",\"20-24\",\"25-29\",\"30-34\",\"35-39\",\"40+\"])\n",
    "binned= Binned.value_counts().to_frame()\n",
    "\n",
    "binned[\"Percentage of Players\"]=(binned[\"Age\"]/binned[\"Age\"].sum())*100\n",
    "binned.columns = ['Total Count', 'Percentage of Players']\n",
    "binned=binned.sort_index()\n",
    "\n",
    "formatted_Age_Demographics_df = binned.style.format({'Percentage of Players': \"{:.2f}%\"})\n",
    "formatted_Age_Demographics_df"
   ]
  },
  {
   "cell_type": "markdown",
   "metadata": {},
   "source": [
    "## Purchasing Analysis (Age)"
   ]
  },
  {
   "cell_type": "markdown",
   "metadata": {},
   "source": [
    "* Bin the purchase_data data frame by age\n",
    "\n",
    "\n",
    "* Run basic calculations to obtain purchase count, avg. purchase price, avg. purchase total per person etc. in the table below\n",
    "\n",
    "\n",
    "* Create a summary data frame to hold the results\n",
    "\n",
    "\n",
    "* Optional: give the displayed data cleaner formatting\n",
    "\n",
    "\n",
    "* Display the summary data frame"
   ]
  },
  {
   "cell_type": "code",
   "execution_count": 7,
   "metadata": {},
   "outputs": [
    {
     "data": {
      "text/html": [
       "<style type=\"text/css\">\n",
       "</style>\n",
       "<table id=\"T_53e20_\">\n",
       "  <thead>\n",
       "    <tr>\n",
       "      <th class=\"blank level0\" >&nbsp;</th>\n",
       "      <th class=\"col_heading level0 col0\" >Purchase Count</th>\n",
       "      <th class=\"col_heading level0 col1\" >Average Purchase Price</th>\n",
       "      <th class=\"col_heading level0 col2\" >Total Purchase Value</th>\n",
       "      <th class=\"col_heading level0 col3\" >Avg Total Purchase per Person</th>\n",
       "    </tr>\n",
       "    <tr>\n",
       "      <th class=\"index_name level0\" >Age Ranges</th>\n",
       "      <th class=\"blank col0\" >&nbsp;</th>\n",
       "      <th class=\"blank col1\" >&nbsp;</th>\n",
       "      <th class=\"blank col2\" >&nbsp;</th>\n",
       "      <th class=\"blank col3\" >&nbsp;</th>\n",
       "    </tr>\n",
       "  </thead>\n",
       "  <tbody>\n",
       "    <tr>\n",
       "      <th id=\"T_53e20_level0_row0\" class=\"row_heading level0 row0\" ><10</th>\n",
       "      <td id=\"T_53e20_row0_col0\" class=\"data row0 col0\" >23</td>\n",
       "      <td id=\"T_53e20_row0_col1\" class=\"data row0 col1\" >$3.35</td>\n",
       "      <td id=\"T_53e20_row0_col2\" class=\"data row0 col2\" >$77.13</td>\n",
       "      <td id=\"T_53e20_row0_col3\" class=\"data row0 col3\" >$4.54</td>\n",
       "    </tr>\n",
       "    <tr>\n",
       "      <th id=\"T_53e20_level0_row1\" class=\"row_heading level0 row1\" >10-14</th>\n",
       "      <td id=\"T_53e20_row1_col0\" class=\"data row1 col0\" >28</td>\n",
       "      <td id=\"T_53e20_row1_col1\" class=\"data row1 col1\" >$2.96</td>\n",
       "      <td id=\"T_53e20_row1_col2\" class=\"data row1 col2\" >$82.78</td>\n",
       "      <td id=\"T_53e20_row1_col3\" class=\"data row1 col3\" >$3.76</td>\n",
       "    </tr>\n",
       "    <tr>\n",
       "      <th id=\"T_53e20_level0_row2\" class=\"row_heading level0 row2\" >15-19</th>\n",
       "      <td id=\"T_53e20_row2_col0\" class=\"data row2 col0\" >136</td>\n",
       "      <td id=\"T_53e20_row2_col1\" class=\"data row2 col1\" >$3.04</td>\n",
       "      <td id=\"T_53e20_row2_col2\" class=\"data row2 col2\" >$412.89</td>\n",
       "      <td id=\"T_53e20_row2_col3\" class=\"data row2 col3\" >$3.86</td>\n",
       "    </tr>\n",
       "    <tr>\n",
       "      <th id=\"T_53e20_level0_row3\" class=\"row_heading level0 row3\" >20-24</th>\n",
       "      <td id=\"T_53e20_row3_col0\" class=\"data row3 col0\" >365</td>\n",
       "      <td id=\"T_53e20_row3_col1\" class=\"data row3 col1\" >$3.05</td>\n",
       "      <td id=\"T_53e20_row3_col2\" class=\"data row3 col2\" >$1114.06</td>\n",
       "      <td id=\"T_53e20_row3_col3\" class=\"data row3 col3\" >$4.32</td>\n",
       "    </tr>\n",
       "    <tr>\n",
       "      <th id=\"T_53e20_level0_row4\" class=\"row_heading level0 row4\" >25-29</th>\n",
       "      <td id=\"T_53e20_row4_col0\" class=\"data row4 col0\" >101</td>\n",
       "      <td id=\"T_53e20_row4_col1\" class=\"data row4 col1\" >$2.90</td>\n",
       "      <td id=\"T_53e20_row4_col2\" class=\"data row4 col2\" >$293.00</td>\n",
       "      <td id=\"T_53e20_row4_col3\" class=\"data row4 col3\" >$3.81</td>\n",
       "    </tr>\n",
       "    <tr>\n",
       "      <th id=\"T_53e20_level0_row5\" class=\"row_heading level0 row5\" >30-34</th>\n",
       "      <td id=\"T_53e20_row5_col0\" class=\"data row5 col0\" >73</td>\n",
       "      <td id=\"T_53e20_row5_col1\" class=\"data row5 col1\" >$2.93</td>\n",
       "      <td id=\"T_53e20_row5_col2\" class=\"data row5 col2\" >$214.00</td>\n",
       "      <td id=\"T_53e20_row5_col3\" class=\"data row5 col3\" >$4.12</td>\n",
       "    </tr>\n",
       "    <tr>\n",
       "      <th id=\"T_53e20_level0_row6\" class=\"row_heading level0 row6\" >35-39</th>\n",
       "      <td id=\"T_53e20_row6_col0\" class=\"data row6 col0\" >41</td>\n",
       "      <td id=\"T_53e20_row6_col1\" class=\"data row6 col1\" >$3.60</td>\n",
       "      <td id=\"T_53e20_row6_col2\" class=\"data row6 col2\" >$147.67</td>\n",
       "      <td id=\"T_53e20_row6_col3\" class=\"data row6 col3\" >$4.76</td>\n",
       "    </tr>\n",
       "    <tr>\n",
       "      <th id=\"T_53e20_level0_row7\" class=\"row_heading level0 row7\" >40+</th>\n",
       "      <td id=\"T_53e20_row7_col0\" class=\"data row7 col0\" >13</td>\n",
       "      <td id=\"T_53e20_row7_col1\" class=\"data row7 col1\" >$2.94</td>\n",
       "      <td id=\"T_53e20_row7_col2\" class=\"data row7 col2\" >$38.24</td>\n",
       "      <td id=\"T_53e20_row7_col3\" class=\"data row7 col3\" >$3.19</td>\n",
       "    </tr>\n",
       "  </tbody>\n",
       "</table>\n"
      ],
      "text/plain": [
       "<pandas.io.formats.style.Styler at 0x1c7a72a92e0>"
      ]
     },
     "execution_count": 7,
     "metadata": {},
     "output_type": "execute_result"
    }
   ],
   "source": [
    "Purchasing_Analysis = pd.cut(purchase_data[\"Age\"], \n",
    "                bins=[0,9,14,19,24,29,34,39,100], \n",
    "                labels = [\"<10\",\"10-14\",\"15-19\",\"20-24\",\"25-29\",\"30-34\",\"35-39\",\"40+\"])\n",
    "\n",
    "\n",
    "Purchasing_Analysisdf= Purchasing_Analysis.value_counts().to_frame()\n",
    "\n",
    "new_purchase_data = purchase_data\n",
    "new_purchase_data[\"bins\"] = Purchasing_Analysis\n",
    "new_purchase_data.head()\n",
    "grouped_new_purchase_data =  new_purchase_data.groupby(\"bins\")\n",
    "\n",
    "\n",
    "Purchasing_Analysisdf[\"Average Purchase Price\"]=grouped_new_purchase_data[\"Price\"].mean()\n",
    "Purchasing_Analysisdf[\"Total Purchase Value\"]=grouped_new_purchase_data[\"Price\"].sum()\n",
    "Purchasing_Analysisdf[\"Avg Total Purchase per Person\"]= Purchasing_Analysisdf[\"Total Purchase Value\"]/binned['Total Count']\n",
    "Purchasing_Analysisdf=Purchasing_Analysisdf.sort_index()\n",
    "Purchasing_Analysisdf.index.name = 'Age Ranges'\n",
    "Purchasing_Analysisdf.columns = ['Purchase Count', 'Average Purchase Price',\"Total Purchase Value\",\"Avg Total Purchase per Person\"]\n",
    "\n",
    "formatted_Purchasing_Analysis_df = Purchasing_Analysisdf.style.format({'Average Purchase Price': \"${:.2f}\",\n",
    "                                                            'Total Purchase Value': \"${:.2f}\",\n",
    "                                                           'Avg Total Purchase per Person': \"${:.2f}\"})\n",
    "formatted_Purchasing_Analysis_df"
   ]
  },
  {
   "cell_type": "markdown",
   "metadata": {},
   "source": [
    "## Top Spenders"
   ]
  },
  {
   "cell_type": "markdown",
   "metadata": {},
   "source": [
    "* Run basic calculations to obtain the results in the table below\n",
    "\n",
    "\n",
    "* Create a summary data frame to hold the results\n",
    "\n",
    "\n",
    "* Sort the total purchase value column in descending order\n",
    "\n",
    "\n",
    "* Optional: give the displayed data cleaner formatting\n",
    "\n",
    "\n",
    "* Display a preview of the summary data frame\n",
    "\n"
   ]
  },
  {
   "cell_type": "code",
   "execution_count": 8,
   "metadata": {},
   "outputs": [
    {
     "data": {
      "text/html": [
       "<style type=\"text/css\">\n",
       "</style>\n",
       "<table id=\"T_459a5_\">\n",
       "  <thead>\n",
       "    <tr>\n",
       "      <th class=\"blank level0\" >&nbsp;</th>\n",
       "      <th class=\"col_heading level0 col0\" >Purchase Count</th>\n",
       "      <th class=\"col_heading level0 col1\" >Average Purchase Price</th>\n",
       "      <th class=\"col_heading level0 col2\" >Total Purchase Value</th>\n",
       "    </tr>\n",
       "    <tr>\n",
       "      <th class=\"index_name level0\" >SN</th>\n",
       "      <th class=\"blank col0\" >&nbsp;</th>\n",
       "      <th class=\"blank col1\" >&nbsp;</th>\n",
       "      <th class=\"blank col2\" >&nbsp;</th>\n",
       "    </tr>\n",
       "  </thead>\n",
       "  <tbody>\n",
       "    <tr>\n",
       "      <th id=\"T_459a5_level0_row0\" class=\"row_heading level0 row0\" >Lisosia93</th>\n",
       "      <td id=\"T_459a5_row0_col0\" class=\"data row0 col0\" >5</td>\n",
       "      <td id=\"T_459a5_row0_col1\" class=\"data row0 col1\" >$3.79</td>\n",
       "      <td id=\"T_459a5_row0_col2\" class=\"data row0 col2\" >$18.96</td>\n",
       "    </tr>\n",
       "    <tr>\n",
       "      <th id=\"T_459a5_level0_row1\" class=\"row_heading level0 row1\" >Idastidru52</th>\n",
       "      <td id=\"T_459a5_row1_col0\" class=\"data row1 col0\" >4</td>\n",
       "      <td id=\"T_459a5_row1_col1\" class=\"data row1 col1\" >$3.86</td>\n",
       "      <td id=\"T_459a5_row1_col2\" class=\"data row1 col2\" >$15.45</td>\n",
       "    </tr>\n",
       "    <tr>\n",
       "      <th id=\"T_459a5_level0_row2\" class=\"row_heading level0 row2\" >Chamjask73</th>\n",
       "      <td id=\"T_459a5_row2_col0\" class=\"data row2 col0\" >3</td>\n",
       "      <td id=\"T_459a5_row2_col1\" class=\"data row2 col1\" >$4.61</td>\n",
       "      <td id=\"T_459a5_row2_col2\" class=\"data row2 col2\" >$13.83</td>\n",
       "    </tr>\n",
       "    <tr>\n",
       "      <th id=\"T_459a5_level0_row3\" class=\"row_heading level0 row3\" >Iral74</th>\n",
       "      <td id=\"T_459a5_row3_col0\" class=\"data row3 col0\" >4</td>\n",
       "      <td id=\"T_459a5_row3_col1\" class=\"data row3 col1\" >$3.41</td>\n",
       "      <td id=\"T_459a5_row3_col2\" class=\"data row3 col2\" >$13.62</td>\n",
       "    </tr>\n",
       "    <tr>\n",
       "      <th id=\"T_459a5_level0_row4\" class=\"row_heading level0 row4\" >Iskadarya95</th>\n",
       "      <td id=\"T_459a5_row4_col0\" class=\"data row4 col0\" >3</td>\n",
       "      <td id=\"T_459a5_row4_col1\" class=\"data row4 col1\" >$4.37</td>\n",
       "      <td id=\"T_459a5_row4_col2\" class=\"data row4 col2\" >$13.10</td>\n",
       "    </tr>\n",
       "  </tbody>\n",
       "</table>\n"
      ],
      "text/plain": [
       "<pandas.io.formats.style.Styler at 0x1c7a40348b0>"
      ]
     },
     "execution_count": 8,
     "metadata": {},
     "output_type": "execute_result"
    }
   ],
   "source": [
    "count_SN=purchase_data[\"SN\"].value_counts().to_frame()\n",
    "count_SN\n",
    "grouped_SN = purchase_data.groupby([\"SN\"])\n",
    "count_SN[\"Average Purchase Price\"]=grouped_SN[\"Price\"].mean()\n",
    "count_SN[\"Total Purchase Value\"]=grouped_SN[\"Price\"].sum()\n",
    "count_SN=count_SN.sort_values(by='Total Purchase Value', ascending=False)\n",
    "count_SN.columns = ['Purchase Count', 'Average Purchase Price',\"Total Purchase Value\"]\n",
    "count_SN.head(5)\n",
    "count_SN.index.name = 'SN'\n",
    "\n",
    "count_SN_summary= count_SN.iloc[0:5,:]\n",
    "count_SN_summary = count_SN_summary.style.format({'Average Purchase Price': \"${:.2f}\",'Total Purchase Value': \"${:.2f}\"})\n",
    "count_SN_summary"
   ]
  },
  {
   "cell_type": "markdown",
   "metadata": {},
   "source": [
    "## Most Popular Items"
   ]
  },
  {
   "cell_type": "markdown",
   "metadata": {},
   "source": [
    "* Retrieve the Item ID, Item Name, and Item Price columns\n",
    "\n",
    "\n",
    "* Group by Item ID and Item Name. Perform calculations to obtain purchase count, item price, and total purchase value\n",
    "\n",
    "\n",
    "* Create a summary data frame to hold the results\n",
    "\n",
    "\n",
    "* Sort the purchase count column in descending order\n",
    "\n",
    "\n",
    "* Optional: give the displayed data cleaner formatting\n",
    "\n",
    "\n",
    "* Display a preview of the summary data frame\n",
    "\n"
   ]
  },
  {
   "cell_type": "code",
   "execution_count": 9,
   "metadata": {},
   "outputs": [
    {
     "data": {
      "text/html": [
       "<style type=\"text/css\">\n",
       "</style>\n",
       "<table id=\"T_96518_\">\n",
       "  <thead>\n",
       "    <tr>\n",
       "      <th class=\"blank\" >&nbsp;</th>\n",
       "      <th class=\"blank level0\" >&nbsp;</th>\n",
       "      <th class=\"col_heading level0 col0\" >Purchase Count</th>\n",
       "      <th class=\"col_heading level0 col1\" >Percentage of Players</th>\n",
       "      <th class=\"col_heading level0 col2\" >Total Purchase Value</th>\n",
       "    </tr>\n",
       "    <tr>\n",
       "      <th class=\"index_name level0\" >Item ID</th>\n",
       "      <th class=\"index_name level1\" >Item Name</th>\n",
       "      <th class=\"blank col0\" >&nbsp;</th>\n",
       "      <th class=\"blank col1\" >&nbsp;</th>\n",
       "      <th class=\"blank col2\" >&nbsp;</th>\n",
       "    </tr>\n",
       "  </thead>\n",
       "  <tbody>\n",
       "    <tr>\n",
       "      <th id=\"T_96518_level0_row0\" class=\"row_heading level0 row0\" >92</th>\n",
       "      <th id=\"T_96518_level1_row0\" class=\"row_heading level1 row0\" >Final Critic</th>\n",
       "      <td id=\"T_96518_row0_col0\" class=\"data row0 col0\" >13</td>\n",
       "      <td id=\"T_96518_row0_col1\" class=\"data row0 col1\" >4.61%</td>\n",
       "      <td id=\"T_96518_row0_col2\" class=\"data row0 col2\" >$59.99</td>\n",
       "    </tr>\n",
       "    <tr>\n",
       "      <th id=\"T_96518_level0_row1\" class=\"row_heading level0 row1\" >178</th>\n",
       "      <th id=\"T_96518_level1_row1\" class=\"row_heading level1 row1\" >Oathbreaker, Last Hope of the Breaking Storm</th>\n",
       "      <td id=\"T_96518_row1_col0\" class=\"data row1 col0\" >12</td>\n",
       "      <td id=\"T_96518_row1_col1\" class=\"data row1 col1\" >4.23%</td>\n",
       "      <td id=\"T_96518_row1_col2\" class=\"data row1 col2\" >$50.76</td>\n",
       "    </tr>\n",
       "    <tr>\n",
       "      <th id=\"T_96518_level0_row2\" class=\"row_heading level0 row2\" >145</th>\n",
       "      <th id=\"T_96518_level1_row2\" class=\"row_heading level1 row2\" >Fiery Glass Crusader</th>\n",
       "      <td id=\"T_96518_row2_col0\" class=\"data row2 col0\" >9</td>\n",
       "      <td id=\"T_96518_row2_col1\" class=\"data row2 col1\" >4.58%</td>\n",
       "      <td id=\"T_96518_row2_col2\" class=\"data row2 col2\" >$41.22</td>\n",
       "    </tr>\n",
       "    <tr>\n",
       "      <th id=\"T_96518_level0_row3\" class=\"row_heading level0 row3\" >132</th>\n",
       "      <th id=\"T_96518_level1_row3\" class=\"row_heading level1 row3\" >Persuasion</th>\n",
       "      <td id=\"T_96518_row3_col0\" class=\"data row3 col0\" >9</td>\n",
       "      <td id=\"T_96518_row3_col1\" class=\"data row3 col1\" >3.22%</td>\n",
       "      <td id=\"T_96518_row3_col2\" class=\"data row3 col2\" >$28.99</td>\n",
       "    </tr>\n",
       "    <tr>\n",
       "      <th id=\"T_96518_level0_row4\" class=\"row_heading level0 row4\" >108</th>\n",
       "      <th id=\"T_96518_level1_row4\" class=\"row_heading level1 row4\" >Extraction, Quickblade Of Trembling Hands</th>\n",
       "      <td id=\"T_96518_row4_col0\" class=\"data row4 col0\" >9</td>\n",
       "      <td id=\"T_96518_row4_col1\" class=\"data row4 col1\" >3.53%</td>\n",
       "      <td id=\"T_96518_row4_col2\" class=\"data row4 col2\" >$31.77</td>\n",
       "    </tr>\n",
       "  </tbody>\n",
       "</table>\n"
      ],
      "text/plain": [
       "<pandas.io.formats.style.Styler at 0x1c7a6433880>"
      ]
     },
     "execution_count": 9,
     "metadata": {},
     "output_type": "execute_result"
    }
   ],
   "source": [
    "\n",
    "grouped_ID = purchase_data.groupby([\"Item ID\"])\n",
    "\n",
    "count_ID = grouped_ID[\"Item Name\"].value_counts().to_frame()\n",
    "\n",
    "regrouped= purchase_data.groupby([\"Item ID\",\"Item Name\"])\n",
    "count_ID[\"Item Price\"] = regrouped[\"Price\"].mean()\n",
    "count_ID[\"Total_Purchase_Value\"]=regrouped[\"Price\"].sum()\n",
    "\n",
    "\n",
    "\n",
    "count_ID.columns = ['Purchase Count', 'Percentage of Players',\"Total Purchase Value\"]\n",
    "count_ID=count_ID.sort_values(by='Purchase Count', ascending=False)\n",
    "\n",
    "count_ID_summary= count_ID.iloc[0:5,:]\n",
    "count_ID_summary = count_ID_summary.style.format({'Percentage of Players': \"{:.2f}%\",'Total Purchase Value': \"${:.2f}\"})\n",
    "count_ID_summary"
   ]
  },
  {
   "cell_type": "markdown",
   "metadata": {},
   "source": [
    "## Most Profitable Items"
   ]
  },
  {
   "cell_type": "markdown",
   "metadata": {},
   "source": [
    "* Sort the above table by total purchase value in descending order\n",
    "\n",
    "\n",
    "* Optional: give the displayed data cleaner formatting\n",
    "\n",
    "\n",
    "* Display a preview of the data frame\n",
    "\n"
   ]
  },
  {
   "cell_type": "code",
   "execution_count": 11,
   "metadata": {
    "scrolled": true
   },
   "outputs": [
    {
     "data": {
      "text/html": [
       "<style type=\"text/css\">\n",
       "</style>\n",
       "<table id=\"T_96518_\">\n",
       "  <thead>\n",
       "    <tr>\n",
       "      <th class=\"blank\" >&nbsp;</th>\n",
       "      <th class=\"blank level0\" >&nbsp;</th>\n",
       "      <th class=\"col_heading level0 col0\" >Purchase Count</th>\n",
       "      <th class=\"col_heading level0 col1\" >Percentage of Players</th>\n",
       "      <th class=\"col_heading level0 col2\" >Total Purchase Value</th>\n",
       "    </tr>\n",
       "    <tr>\n",
       "      <th class=\"index_name level0\" >Item ID</th>\n",
       "      <th class=\"index_name level1\" >Item Name</th>\n",
       "      <th class=\"blank col0\" >&nbsp;</th>\n",
       "      <th class=\"blank col1\" >&nbsp;</th>\n",
       "      <th class=\"blank col2\" >&nbsp;</th>\n",
       "    </tr>\n",
       "  </thead>\n",
       "  <tbody>\n",
       "    <tr>\n",
       "      <th id=\"T_96518_level0_row0\" class=\"row_heading level0 row0\" >92</th>\n",
       "      <th id=\"T_96518_level1_row0\" class=\"row_heading level1 row0\" >Final Critic</th>\n",
       "      <td id=\"T_96518_row0_col0\" class=\"data row0 col0\" >13</td>\n",
       "      <td id=\"T_96518_row0_col1\" class=\"data row0 col1\" >4.61%</td>\n",
       "      <td id=\"T_96518_row0_col2\" class=\"data row0 col2\" >$59.99</td>\n",
       "    </tr>\n",
       "    <tr>\n",
       "      <th id=\"T_96518_level0_row1\" class=\"row_heading level0 row1\" >178</th>\n",
       "      <th id=\"T_96518_level1_row1\" class=\"row_heading level1 row1\" >Oathbreaker, Last Hope of the Breaking Storm</th>\n",
       "      <td id=\"T_96518_row1_col0\" class=\"data row1 col0\" >12</td>\n",
       "      <td id=\"T_96518_row1_col1\" class=\"data row1 col1\" >4.23%</td>\n",
       "      <td id=\"T_96518_row1_col2\" class=\"data row1 col2\" >$50.76</td>\n",
       "    </tr>\n",
       "    <tr>\n",
       "      <th id=\"T_96518_level0_row2\" class=\"row_heading level0 row2\" >145</th>\n",
       "      <th id=\"T_96518_level1_row2\" class=\"row_heading level1 row2\" >Fiery Glass Crusader</th>\n",
       "      <td id=\"T_96518_row2_col0\" class=\"data row2 col0\" >9</td>\n",
       "      <td id=\"T_96518_row2_col1\" class=\"data row2 col1\" >4.58%</td>\n",
       "      <td id=\"T_96518_row2_col2\" class=\"data row2 col2\" >$41.22</td>\n",
       "    </tr>\n",
       "    <tr>\n",
       "      <th id=\"T_96518_level0_row3\" class=\"row_heading level0 row3\" >132</th>\n",
       "      <th id=\"T_96518_level1_row3\" class=\"row_heading level1 row3\" >Persuasion</th>\n",
       "      <td id=\"T_96518_row3_col0\" class=\"data row3 col0\" >9</td>\n",
       "      <td id=\"T_96518_row3_col1\" class=\"data row3 col1\" >3.22%</td>\n",
       "      <td id=\"T_96518_row3_col2\" class=\"data row3 col2\" >$28.99</td>\n",
       "    </tr>\n",
       "    <tr>\n",
       "      <th id=\"T_96518_level0_row4\" class=\"row_heading level0 row4\" >108</th>\n",
       "      <th id=\"T_96518_level1_row4\" class=\"row_heading level1 row4\" >Extraction, Quickblade Of Trembling Hands</th>\n",
       "      <td id=\"T_96518_row4_col0\" class=\"data row4 col0\" >9</td>\n",
       "      <td id=\"T_96518_row4_col1\" class=\"data row4 col1\" >3.53%</td>\n",
       "      <td id=\"T_96518_row4_col2\" class=\"data row4 col2\" >$31.77</td>\n",
       "    </tr>\n",
       "  </tbody>\n",
       "</table>\n"
      ],
      "text/plain": [
       "<pandas.io.formats.style.Styler at 0x1c7a6433880>"
      ]
     },
     "execution_count": 11,
     "metadata": {},
     "output_type": "execute_result"
    }
   ],
   "source": [
    "count_ID_summary"
   ]
  },
  {
   "cell_type": "code",
   "execution_count": null,
   "metadata": {},
   "outputs": [],
   "source": []
  }
 ],
 "metadata": {
  "anaconda-cloud": {},
  "kernel_info": {
   "name": "python3"
  },
  "kernelspec": {
   "display_name": "Python 3 (ipykernel)",
   "language": "python",
   "name": "python3"
  },
  "language_info": {
   "codemirror_mode": {
    "name": "ipython",
    "version": 3
   },
   "file_extension": ".py",
   "mimetype": "text/x-python",
   "name": "python",
   "nbconvert_exporter": "python",
   "pygments_lexer": "ipython3",
   "version": "3.9.7"
  },
  "latex_envs": {
   "LaTeX_envs_menu_present": true,
   "autoclose": false,
   "autocomplete": true,
   "bibliofile": "biblio.bib",
   "cite_by": "apalike",
   "current_citInitial": 1,
   "eqLabelWithNumbers": true,
   "eqNumInitial": 1,
   "hotkeys": {
    "equation": "Ctrl-E",
    "itemize": "Ctrl-I"
   },
   "labels_anchors": false,
   "latex_user_defs": false,
   "report_style_numbering": false,
   "user_envs_cfg": false
  },
  "nteract": {
   "version": "0.2.0"
  }
 },
 "nbformat": 4,
 "nbformat_minor": 2
}
